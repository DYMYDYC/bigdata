{
 "cells": [
  {
   "cell_type": "code",
   "execution_count": 104,
   "metadata": {},
   "outputs": [],
   "source": [
    "import networkx as nx\n",
    "import matplotlib.pyplot as plt\n",
    "import numpy as np\n",
    "import warnings\n",
    "from datetime import datetime\n",
    "from collections import Counter\n",
    "%matplotlib inline"
   ]
  },
  {
   "cell_type": "code",
   "execution_count": 105,
   "metadata": {},
   "outputs": [],
   "source": [
    "social = nx.read_gpickle('linkedin.gpickle')"
   ]
  },
  {
   "cell_type": "code",
   "execution_count": 106,
   "metadata": {},
   "outputs": [
    {
     "name": "stdout",
     "output_type": "stream",
     "text": [
      "Name: \n",
      "Type: Graph\n",
      "Number of nodes: 30\n",
      "Number of edges: 48\n",
      "Average degree:   3.2000\n"
     ]
    }
   ],
   "source": [
    "print(nx.info(social))"
   ]
  },
  {
   "cell_type": "code",
   "execution_count": 107,
   "metadata": {},
   "outputs": [
    {
     "data": {
      "image/png": "[encoded data removed]",
      "text/plain": [
       "<matplotlib.figure.Figure at 0x7f15f81e0c88>"
      ]
     },
     "metadata": {},
     "output_type": "display_data"
    }
   ],
   "source": [
    "nx.draw_networkx(social,node_color='r', node_size=10, with_labels=False)"
   ]
  },
  {
   "cell_type": "code",
   "execution_count": 108,
   "metadata": {},
   "outputs": [
    {
     "data": {
      "text/plain": [
       "NodeDataView({0: {'age': 20, 'sex': 'Male'}, 1: {'age': 21, 'sex': 'Female'}, 2: {'age': 19, 'sex': 'Male'}, 3: {'age': 29, 'sex': 'Female'}, 4: {'age': 30, 'sex': 'Male'}, 5: {'age': 26, 'sex': 'Female'}, 6: {'age': 21, 'sex': 'Male'}, 7: {'age': 17, 'sex': 'Female'}, 8: {'age': 21, 'sex': 'Male'}, 9: {'age': 14, 'sex': 'Male'}, 10: {'age': 23, 'sex': 'Male'}, 11: {'age': 17, 'sex': 'Female'}, 12: {'age': 19, 'sex': 'Male'}, 13: {'age': 27, 'sex': 'Female'}, 14: {'age': 29, 'sex': 'Female'}, 15: {'age': 14, 'sex': 'Male'}, 16: {'age': 18, 'sex': 'Female'}, 17: {'age': 21, 'sex': 'Female'}, 18: {'age': 19, 'sex': 'Male'}, 19: {'age': 19, 'sex': 'Female'}, 20: {'age': 19, 'sex': 'Female'}, 21: {'age': 21, 'sex': 'Male'}, 22: {'age': 30, 'sex': 'Female'}, 23: {'age': 25, 'sex': 'Female'}, 24: {'age': 13, 'sex': 'Male'}, 25: {'age': 24, 'sex': 'Female'}, 26: {'age': 23, 'sex': 'Male'}, 27: {'age': 21, 'sex': 'Male'}, 28: {'age': 29, 'sex': 'Female'}, 29: {'age': 25, 'sex': 'Male'}})"
      ]
     },
     "execution_count": 108,
     "metadata": {},
     "output_type": "execute_result"
    }
   ],
   "source": [
    "#get the node attributes\n",
    "social.nodes(data=True)"
   ]
  },
  {
   "cell_type": "code",
   "execution_count": 109,
   "metadata": {},
   "outputs": [
    {
     "name": "stdout",
     "output_type": "stream",
     "text": [
      "[(0, 10, {'date': datetime.datetime(2011, 6, 7, 0, 0)}), (0, 19, {'date': datetime.datetime(2011, 2, 12, 0, 0)}), (0, 12, {'date': datetime.datetime(2006, 8, 28, 0, 0)}), (1, 4, {'date': datetime.datetime(2009, 11, 8, 0, 0)}), (1, 2, {'date': datetime.datetime(2010, 8, 5, 0, 0)}), (1, 3, {'date': datetime.datetime(2005, 2, 3, 0, 0)}), (1, 12, {'date': datetime.datetime(2003, 3, 17, 0, 0)}), (1, 29, {'date': datetime.datetime(2005, 1, 15, 0, 0)}), (2, 16, {'date': datetime.datetime(2002, 5, 27, 0, 0)}), (2, 3, {'date': datetime.datetime(2009, 8, 13, 0, 0)}), (2, 6, {'date': datetime.datetime(2006, 1, 12, 0, 0)}), (2, 19, {'date': datetime.datetime(2010, 1, 6, 0, 0)}), (3, 8, {'date': datetime.datetime(2010, 6, 22, 0, 0)}), (3, 6, {'date': datetime.datetime(2009, 3, 20, 0, 0)}), (3, 23, {'date': datetime.datetime(2003, 11, 9, 0, 0)}), (4, 19, {'date': datetime.datetime(2007, 12, 4, 0, 0)}), (4, 28, {'date': datetime.datetime(2009, 5, 22, 0, 0)}), (6, 23, {'date': datetime.datetime(2011, 3, 4, 0, 0)}), (7, 24, {'date': datetime.datetime(2004, 9, 24, 0, 0)}), (7, 25, {'date': datetime.datetime(2009, 3, 21, 0, 0)}), (8, 17, {'date': datetime.datetime(2005, 11, 16, 0, 0)}), (8, 22, {'date': datetime.datetime(2010, 1, 22, 0, 0)}), (9, 24, {'date': datetime.datetime(2008, 12, 2, 0, 0)}), (9, 17, {'date': datetime.datetime(2009, 10, 11, 0, 0)}), (9, 11, {'date': datetime.datetime(2005, 4, 3, 0, 0)}), (10, 11, {'date': datetime.datetime(2005, 2, 6, 0, 0)}), (10, 21, {'date': datetime.datetime(2007, 1, 21, 0, 0)}), (11, 14, {'date': datetime.datetime(2010, 4, 28, 0, 0)}), (12, 19, {'date': datetime.datetime(2007, 12, 17, 0, 0)}), (12, 29, {'date': datetime.datetime(2008, 8, 27, 0, 0)}), (13, 16, {'date': datetime.datetime(2005, 5, 14, 0, 0)}), (13, 24, {'date': datetime.datetime(2006, 5, 7, 0, 0)}), (13, 14, {'date': datetime.datetime(2011, 3, 19, 0, 0)}), (14, 17, {'date': datetime.datetime(2008, 10, 17, 0, 0)}), (14, 25, {'date': datetime.datetime(2002, 6, 11, 0, 0)}), (15, 24, {'date': datetime.datetime(2007, 9, 2, 0, 0)}), (15, 28, {'date': datetime.datetime(2008, 3, 6, 0, 0)}), (16, 17, {'date': datetime.datetime(2002, 5, 20, 0, 0)}), (16, 19, {'date': datetime.datetime(2005, 8, 20, 0, 0)}), (17, 19, {'date': datetime.datetime(2006, 10, 13, 0, 0)}), (19, 22, {'date': datetime.datetime(2011, 11, 4, 0, 0)}), (19, 27, {'date': datetime.datetime(2009, 7, 27, 0, 0)}), (20, 27, {'date': datetime.datetime(2004, 1, 27, 0, 0)}), (20, 23, {'date': datetime.datetime(2007, 12, 3, 0, 0)}), (21, 27, {'date': datetime.datetime(2007, 2, 1, 0, 0)}), (21, 26, {'date': datetime.datetime(2006, 12, 14, 0, 0)}), (25, 28, {'date': datetime.datetime(2007, 2, 15, 0, 0)}), (26, 29, {'date': datetime.datetime(2006, 12, 19, 0, 0)})]\n"
     ]
    }
   ],
   "source": [
    "#find the edge attributes\n",
    "print (social.edges(data=True))"
   ]
  },
  {
   "cell_type": "markdown",
   "metadata": {},
   "source": [
    "# Question 1: Write a program that presents the range of dates (earliest and last dates) during which these relationships were forged? "
   ]
  },
  {
   "cell_type": "code",
   "execution_count": null,
   "metadata": {},
   "outputs": [],
   "source": []
  },
  {
   "cell_type": "markdown",
   "metadata": {},
   "source": [
    "# Question 2: Write a program that presents if node 5 and 25 are connected (directly or thru friends)"
   ]
  },
  {
   "cell_type": "code",
   "execution_count": null,
   "metadata": {},
   "outputs": [],
   "source": []
  },
  {
   "cell_type": "markdown",
   "metadata": {},
   "source": [
    "# Question 3: Write a program that lists the direct friends of node 4"
   ]
  },
  {
   "cell_type": "code",
   "execution_count": null,
   "metadata": {},
   "outputs": [],
   "source": []
  },
  {
   "cell_type": "markdown",
   "metadata": {},
   "source": [
    "# Question 4: Write a program that presents the most popular person"
   ]
  },
  {
   "cell_type": "code",
   "execution_count": null,
   "metadata": {},
   "outputs": [],
   "source": []
  }
 ],
 "metadata": {
  "kernelspec": {
   "display_name": "Python 3",
   "language": "python",
   "name": "python3"
  },
  "language_info": {
   "codemirror_mode": {
    "name": "ipython",
    "version": 3
   },
   "file_extension": ".py",
   "mimetype": "text/x-python",
   "name": "python",
   "nbconvert_exporter": "python",
   "pygments_lexer": "ipython3",
   "version": "3.5.2"
  }
 },
 "nbformat": 4,
 "nbformat_minor": 2
}
