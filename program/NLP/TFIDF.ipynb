{
 "cells": [
  {
   "cell_type": "code",
   "execution_count": 6,
   "metadata": {},
   "outputs": [],
   "source": [
    "import nltk\n",
    "import math"
   ]
  },
  {
   "cell_type": "code",
   "execution_count": 7,
   "metadata": {},
   "outputs": [],
   "source": [
    "dataset = {\n",
    "    \"tfidf_1.txt\":open(\"tfidf_1.txt\").read(),\n",
    "    \"tfidf_2.txt\":open(\"tfidf_2.txt\").read(),\n",
    "    \"tfidf_3.txt\":open(\"tfidf_3.txt\").read(),\n",
    "    \"tfidf_4.txt\":open(\"tfidf_4.txt\").read(),\n",
    "    \"tfidf_5.txt\":open(\"tfidf_5.txt\").read(),\n",
    "    \"tfidf_6.txt\":open(\"tfidf_6.txt\").read(),\n",
    "    \"tfidf_7.txt\":open(\"tfidf_7.txt\").read(),\n",
    "    \"tfidf_8.txt\":open(\"tfidf_8.txt\").read(),\n",
    "    \"tfidf_9.txt\":open(\"tfidf_9.txt\").read(),\n",
    "    \"tfidf_10.txt\":open(\"tfidf_10.txt\").read()\n",
    "}"
   ]
  },
  {
   "cell_type": "code",
   "execution_count": 8,
   "metadata": {},
   "outputs": [],
   "source": [
    "# Calculate term frequencies\n",
    "def tf(dataset, file_name):\n",
    "    text = dataset[file_name]\n",
    "    tokens = nltk.word_tokenize(text)\n",
    "    fd = nltk.FreqDist(tokens)\n",
    "    return fd"
   ]
  },
  {
   "cell_type": "code",
   "execution_count": 9,
   "metadata": {},
   "outputs": [],
   "source": [
    "# Calculate inverse document frequency\n",
    "def idf(dataset, term):\n",
    "    count = [term in dataset[file_name] for file_name in dataset]\n",
    "    inv_df = math.log(len(count)/sum(count))\n",
    "    return inv_df"
   ]
  },
  {
   "cell_type": "code",
   "execution_count": 10,
   "metadata": {},
   "outputs": [],
   "source": [
    "def tfidf(dataset, file_name, n):\n",
    "    term_scores = {}\n",
    "    file_fd = tf(dataset,file_name)\n",
    "    for term in file_fd:\n",
    "        if term.isalpha():\n",
    "            idf_val = idf(dataset,term)\n",
    "            tf_val = tf(dataset, file_name)[term]\n",
    "            tfidf = tf_val*idf_val\n",
    "            term_scores[term] = round(tfidf,2)\n",
    "    return sorted(term_scores.items(), key=lambda x:-x[1])[:n]"
   ]
  },
  {
   "cell_type": "code",
   "execution_count": 11,
   "metadata": {},
   "outputs": [
    {
     "data": {
      "text/plain": [
       "FreqDist({'the': 80, ',': 54, 'and': 46, 'of': 39, '.': 27, 'in': 21, 'war': 12, 'on': 11, 'to': 9, 'United': 9, ...})"
      ]
     },
     "execution_count": 11,
     "metadata": {},
     "output_type": "execute_result"
    }
   ],
   "source": [
    "tf (dataset,\"tfidf_1.txt\")"
   ]
  },
  {
   "cell_type": "code",
   "execution_count": 12,
   "metadata": {},
   "outputs": [
    {
     "data": {
      "text/plain": [
       "FreqDist({'the': 32, ',': 21, 'and': 15, 'a': 13, '.': 12, 'on': 10, 'of': 8, 'in': 8, 'to': 7, 'for': 7, ...})"
      ]
     },
     "execution_count": 12,
     "metadata": {},
     "output_type": "execute_result"
    }
   ],
   "source": [
    "tf (dataset,\"tfidf_2.txt\")"
   ]
  },
  {
   "cell_type": "code",
   "execution_count": 13,
   "metadata": {},
   "outputs": [
    {
     "data": {
      "text/plain": [
       "[('Soviet', 20.72),\n",
       " ('Union', 18.42),\n",
       " ('Axis', 16.12),\n",
       " ('Japan', 11.27),\n",
       " ('Germany', 11.27),\n",
       " ('Allies', 9.66),\n",
       " ('invasion', 9.66),\n",
       " ('World', 9.21),\n",
       " ('Asia', 9.21),\n",
       " ('Africa', 9.21)]"
      ]
     },
     "execution_count": 13,
     "metadata": {},
     "output_type": "execute_result"
    }
   ],
   "source": [
    "tfidf(dataset,\"tfidf_1.txt\",10)"
   ]
  },
  {
   "cell_type": "code",
   "execution_count": 14,
   "metadata": {},
   "outputs": [
    {
     "name": "stdout",
     "output_type": "stream",
     "text": [
      "tfidf_1.txt: \n",
      " [('Soviet', 20.72), ('Union', 18.42), ('Axis', 16.12), ('Japan', 11.27), ('Germany', 11.27), ('Allies', 9.66), ('invasion', 9.66), ('World', 9.21), ('Asia', 9.21), ('Africa', 9.21), ('Japanese', 9.21), ('million', 8.05), ('Pacific', 8.05), ('II', 6.91), ('atomic', 6.91), ('China', 6.91), ('Kingdom', 6.91), ('surrender', 6.91), ('United', 6.24), ('European', 6.02)] \n",
      "\n",
      "tfidf_2.txt: \n",
      " [('Module', 16.12), ('Armstrong', 13.82), ('lunar', 13.82), ('Apollo', 11.51), ('Moon', 9.21), ('Aldrin', 9.21), ('spacecraft', 9.21), ('Earth', 8.05), ('surface', 6.91), ('Lunar', 6.91), ('landed', 6.44), ('hours', 4.83), ('Command', 4.83), ('UTC', 4.61), ('Collins', 4.61), ('orbit', 4.61), ('returned', 4.61), ('Saturn', 4.61), ('Kennedy', 4.61), ('Space', 4.61)] \n",
      "\n",
      "tfidf_3.txt: \n",
      " [('Napoleon', 32.19), ('French', 16.86), ('Coalition', 11.51), ('Prussia', 6.91), ('military', 6.02), ('Revolution', 6.02), ('Battle', 6.02), ('against', 5.5), ('France', 4.85), ('Europe', 4.85), ('army', 4.83), ('island', 4.83), ('Allies', 4.83), ('System', 4.83), ('political', 4.82), ('Empire', 4.82), ('born', 4.61), ('Emperor', 4.61), ('affairs', 4.61), ('legal', 4.61)] \n",
      "\n",
      "tfidf_4.txt: \n",
      " [('Washington', 25.33), ('President', 6.44), ('Continental', 4.82), ('presided', 4.61), ('militia', 4.61), ('armies', 4.61), ('generals', 4.61), ('preservation', 4.61), ('opposition', 4.61), ('federal', 4.61), ('two', 3.67), ('American', 3.47), ('British', 3.47), ('Army', 3.22), ('lifetime', 3.22), ('strong', 3.22), ('won', 3.22), ('when', 3.22), ('slaves', 3.22), ('Congress', 3.22)] \n",
      "\n",
      "tfidf_5.txt: \n",
      " [('Newton', 23.03), ('scientists', 6.91), ('motion', 4.83), ('mathematician', 4.61), ('Principia', 4.61), ('mechanics', 4.61), ('calculus', 4.61), ('laws', 4.61), ('mathematical', 4.61), ('Newtonian', 4.61), ('developed', 4.61), ('study', 4.61), ('Trinity', 4.61), ('Cambridge', 4.61), ('Royal', 4.61), ('work', 3.67), ('described', 3.22), ('formulated', 3.22), ('same', 3.22), ('principles', 3.22)] \n",
      "\n",
      "tfidf_6.txt: \n",
      " [('Revolution', 21.67), ('French', 15.65), ('privileges', 6.91), ('central', 6.91), ('Napoleon', 6.44), ('global', 4.83), ('leading', 4.83), ('popular', 4.83), ('Directory', 4.83), ('political', 4.82), ('monarchy', 4.61), ('course', 4.61), ('republics', 4.61), ('Years', 4.61), ('clergy', 4.61), ('Rights', 4.61), ('abolition', 4.61), ('featured', 4.61), ('executed', 4.61), ('conquest', 4.61)] \n",
      "\n",
      "tfidf_7.txt: \n",
      " [('Leonardo', 18.42), ('Vinci', 9.21), ('painting', 6.91), ('Piero', 4.61), ('architecture', 4.61), ('anatomy', 4.61), ('inventions', 4.61), ('Renaissance', 4.61), ('personality', 4.61), ('mysterious', 4.61), ('painter', 4.61), ('works', 4.61), ('reproduced', 4.61), ('Michelangelo', 4.61), ('machine', 4.61), ('science', 3.22), ('engineering', 3.22), ('renowned', 3.22), ('few', 3.22), ('widely', 2.41)] \n",
      "\n",
      "tfidf_8.txt: \n",
      " [('Titanic', 18.42), ('passengers', 11.51), ('maritime', 9.21), ('safety', 9.21), ('lifeboats', 9.21), ('aboard', 9.21), ('RMS', 6.91), ('sinking', 6.91), ('crew', 6.91), ('watertight', 6.91), ('some', 4.83), ('passenger', 4.61), ('liner', 4.61), ('iceberg', 4.61), ('maiden', 4.61), ('voyage', 4.61), ('Southampton', 4.61), ('Ireland', 4.61), ('operational', 4.61), ('compartments', 4.61)] \n",
      "\n",
      "tfidf_9.txt: \n",
      " [('Rockefeller', 23.03), ('business', 6.91), ('Standard', 6.91), ('Oil', 6.91), ('University', 4.83), ('Company', 4.61), ('industry', 4.61), ('philanthropy', 4.61), ('founded', 4.61), ('richest', 4.61), ('billion', 4.61), ('fortune', 4.61), ('research', 4.61), ('Baptist', 4.61), ('oil', 3.22), ('along', 3.22), ('foundations', 3.22), ('Davison', 2.3), ('magnate', 2.3), ('philanthropist', 2.3)] \n",
      "\n",
      "tfidf_10.txt: \n",
      " [('Tesla', 13.82), ('electrical', 6.44), ('wireless', 6.44), ('mechanical', 4.61), ('alternating', 4.61), ('AC', 4.61), ('electricity', 4.61), ('range', 4.61), ('devices', 4.61), ('experiments', 4.61), ('culture', 4.61), ('January', 3.22), ('current', 3.22), ('ideas', 3.22), ('popular', 3.22), ('work', 2.75), ('York', 2.75), ('He', 2.55), ('engineer', 2.41), ('Nikola', 2.3)] \n",
      "\n"
     ]
    }
   ],
   "source": [
    "for file_name in dataset:\n",
    "    print(\"{0}: \\n {1} \\n\".format(file_name, tfidf(dataset,file_name,20)))"
   ]
  },
  {
   "cell_type": "code",
   "execution_count": null,
   "metadata": {},
   "outputs": [],
   "source": []
  }
 ],
 "metadata": {
  "kernelspec": {
   "display_name": "Python 3",
   "language": "python",
   "name": "python3"
  },
  "language_info": {
   "codemirror_mode": {
    "name": "ipython",
    "version": 3
   },
   "file_extension": ".py",
   "mimetype": "text/x-python",
   "name": "python",
   "nbconvert_exporter": "python",
   "pygments_lexer": "ipython3",
   "version": "3.6.5"
  }
 },
 "nbformat": 4,
 "nbformat_minor": 2
}
