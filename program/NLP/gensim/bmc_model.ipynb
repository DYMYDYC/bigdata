{
 "cells": [
  {
   "cell_type": "code",
   "execution_count": 1,
   "metadata": {},
   "outputs": [],
   "source": [
    "import gensim\n",
    "from gensim import corpora\n",
    "import math"
   ]
  },
  {
   "cell_type": "code",
   "execution_count": 2,
   "metadata": {},
   "outputs": [],
   "source": [
    "class BM25 :\n",
    "    def __init__(self, fn_docs, delimiter='|') :\n",
    "        self.dictionary = corpora.Dictionary()\n",
    "        self.DF = {}\n",
    "        self.delimiter = delimiter\n",
    "        self.DocTF = []\n",
    "        self.DocIDF = {}\n",
    "        self.N = 0\n",
    "        self.DocAvgLen = 0\n",
    "        self.fn_docs = fn_docs\n",
    "        self.DocLen = []\n",
    "        self.buildDictionary()\n",
    "        self.TFIDF_Generator()\n",
    "    \n",
    "    def buildDictionary(self) :\n",
    "        raw_data = []\n",
    "        for line in self.fn_docs :\n",
    "            raw_data.append(line.strip().split(self.delimiter))\n",
    "        self.dictionary.add_documents(raw_data)\n",
    "    \n",
    "    def TFIDF_Generator(self, base=10) :\n",
    "        docTotalLen = 0\n",
    "        for line in self.fn_docs :\n",
    "            doc = line.strip().split(self.delimiter)\n",
    "            docTotalLen += len(doc)\n",
    "            self.DocLen.append(len(doc))\n",
    "            #print self.dictionary.doc2bow(doc)\n",
    "            bow = dict([(term, freq*1.0/len(doc)) for term, freq in self.dictionary.doc2bow(doc)])\n",
    "            for term, tf in bow.items() :\n",
    "                if term not in self.DF :\n",
    "                    self.DF[term] = 0\n",
    "                self.DF[term] += 1\n",
    "            self.DocTF.append(bow)\n",
    "            self.N = self.N + 1\n",
    "        for term in self.DF:\n",
    "            #self.DocIDF[term] = math.log((self.N - self.DF[term] +0.5) / (self.DF[term] + 0.5), base)\n",
    "            #print(\"no. docs:\", self.N)\n",
    "            #print(\"df:\", self.DF[term])\n",
    "            self.DocIDF[term] = math.log((self.N +1) / self.DF[term], base)\n",
    "            #print(\"IDF:\", self.DocIDF[term])\n",
    "        self.DocAvgLen = docTotalLen / self.N\n",
    "        #print(\"avg:\", self.DocAvgLen)\n",
    "\n",
    "    def BM25Score(self, Query=[], k1=1.5, b=0.75) :\n",
    "        query_bow = self.dictionary.doc2bow(Query)\n",
    "        scores = []\n",
    "        for idx, doc in enumerate(self.DocTF) :\n",
    "            commonTerms = set(dict(query_bow).keys()) & set(doc.keys())\n",
    "            tmp_score = []\n",
    "            doc_terms_len = self.DocLen[idx]\n",
    "            for term in commonTerms :\n",
    "                upper = (doc[term] * (k1+1))\n",
    "                below = ((doc[term]) + k1*(1 - b + b*doc_terms_len/self.DocAvgLen))\n",
    "                tmp_score.append(self.DocIDF[term] * upper / below)\n",
    "            scores.append(sum(tmp_score))\n",
    "        return scores\n",
    "    \n",
    "    def TFIDF(self) :\n",
    "        tfidf = []\n",
    "        for doc in self.DocTF :\n",
    "            doc_tfidf  = [(term, tf*self.DocIDF[term]) for term, tf in doc.items()]\n",
    "            doc_tfidf.sort()\n",
    "            tfidf.append(doc_tfidf)\n",
    "        return tfidf\n",
    "\n",
    "    def Items(self) :\n",
    "        # Return a list [(term_idx, term_desc),]\n",
    "        items = self.dictionary.items()\n",
    "        #items.sort()\n",
    "        return items"
   ]
  },
  {
   "cell_type": "code",
   "execution_count": 3,
   "metadata": {},
   "outputs": [],
   "source": [
    "fn_docs = [\"Human machine interface for lab abc computer applications\",\n",
    "           \"A survey of user opinion of computer system response time\",\n",
    "           \"The EPS user interface management system\",\n",
    "           \"System and human system engineering testing of EPS\",\n",
    "           \"Relation of user perceived response time to error measurement\",\n",
    "           \"The generation of random binary unordered trees\",\n",
    "           \"The intersection graph of paths in trees\",\n",
    "           \"Graph minors IV Widths of trees and well quasi ordering\",\n",
    "           \"Graph minors A survey\"]"
   ]
  },
  {
   "cell_type": "code",
   "execution_count": 4,
   "metadata": {},
   "outputs": [],
   "source": [
    "bm25 = BM25(fn_docs, delimiter=' ')"
   ]
  },
  {
   "cell_type": "code",
   "execution_count": 5,
   "metadata": {},
   "outputs": [
    {
     "name": "stdout",
     "output_type": "stream",
     "text": [
      "['The', 'intersection', 'graph', 'of', 'paths', 'in', 'trees', 'survey', 'Graph']\n"
     ]
    }
   ],
   "source": [
    "Query = 'The intersection graph of paths in trees survey Graph'\n",
    "Query = Query.split()\n",
    "print(Query)"
   ]
  },
  {
   "cell_type": "code",
   "execution_count": 11,
   "metadata": {},
   "outputs": [
    {
     "name": "stdout",
     "output_type": "stream",
     "text": [
      "[1.381108930190397, 0.08996256351275003, 0.2047937592322093, 0, 0, 0, 0, 0, 0]\n"
     ]
    }
   ],
   "source": [
    "#scores = bm25.BM25Score(Query)\n",
    "scores = bm25.BM25Score(fn_docs[0].split())\n",
    "print(scores)"
   ]
  },
  {
   "cell_type": "code",
   "execution_count": null,
   "metadata": {},
   "outputs": [],
   "source": []
  },
  {
   "cell_type": "code",
   "execution_count": 7,
   "metadata": {},
   "outputs": [
    {
     "name": "stdout",
     "output_type": "stream",
     "text": [
      "[[(0, 0.125), (1, 0.125), (2, 0.125), (3, 0.08737125054200234), (4, 0.125), (5, 0.08737125054200234), (6, 0.125), (7, 0.125)], [(3, 0.06989700043360188), (8, 0.06989700043360188), (9, 0.04436974992327128), (10, 0.1), (11, 0.06989700043360188), (12, 0.06989700043360188), (13, 0.05228787452803377), (14, 0.06989700043360188), (15, 0.05228787452803377)], [(5, 0.11649500072266979), (13, 0.08714645754672293), (15, 0.08714645754672293), (16, 0.11649500072266979), (17, 0.08714645754672293), (18, 0.16666666666666666)], [(9, 0.027731093702044546), (13, 0.0653598431600422), (16, 0.08737125054200234), (19, 0.125), (20, 0.08737125054200234), (21, 0.125), (22, 0.125), (23, 0.125)], [(9, 0.02464986106848404), (11, 0.07766333381511319), (14, 0.07766333381511319), (15, 0.05809763836448195), (24, 0.1111111111111111), (25, 0.1111111111111111), (26, 0.1111111111111111), (27, 0.1111111111111111), (28, 0.1111111111111111)], [(9, 0.03169267851662234), (17, 0.0746969636114768), (29, 0.14285714285714285), (30, 0.14285714285714285), (31, 0.14285714285714285), (32, 0.0746969636114768), (33, 0.14285714285714285)], [(9, 0.03169267851662234), (17, 0.0746969636114768), (32, 0.0746969636114768), (34, 0.14285714285714285), (35, 0.14285714285714285), (36, 0.14285714285714285), (37, 0.14285714285714285)], [(9, 0.02218487496163564), (20, 0.06989700043360188), (32, 0.05228787452803377), (38, 0.06989700043360188), (39, 0.1), (40, 0.1), (41, 0.06989700043360188), (42, 0.1), (43, 0.1), (44, 0.1)], [(8, 0.1747425010840047), (12, 0.1747425010840047), (38, 0.1747425010840047), (41, 0.1747425010840047)]]\n"
     ]
    }
   ],
   "source": [
    "tfidf = bm25.TFIDF()\n",
    "print(tfidf)"
   ]
  },
  {
   "cell_type": "code",
   "execution_count": 8,
   "metadata": {},
   "outputs": [
    {
     "data": {
      "text/plain": [
       "ItemsView(<gensim.corpora.dictionary.Dictionary object at 0x7f81467ca358>)"
      ]
     },
     "execution_count": 8,
     "metadata": {},
     "output_type": "execute_result"
    }
   ],
   "source": [
    "bm25.Items()"
   ]
  },
  {
   "cell_type": "code",
   "execution_count": 9,
   "metadata": {},
   "outputs": [
    {
     "name": "stdout",
     "output_type": "stream",
     "text": [
      "Human machine interface for lab abc computer applications [(0, 0.125), (1, 0.125), (2, 0.125), (3, 0.08737125054200234), (4, 0.125), (5, 0.08737125054200234), (6, 0.125), (7, 0.125)]\n",
      "A survey of user opinion of computer system response time [(3, 0.06989700043360188), (8, 0.06989700043360188), (9, 0.04436974992327128), (10, 0.1), (11, 0.06989700043360188), (12, 0.06989700043360188), (13, 0.05228787452803377), (14, 0.06989700043360188), (15, 0.05228787452803377)]\n",
      "The EPS user interface management system [(5, 0.11649500072266979), (13, 0.08714645754672293), (15, 0.08714645754672293), (16, 0.11649500072266979), (17, 0.08714645754672293), (18, 0.16666666666666666)]\n",
      "System and human system engineering testing of EPS [(9, 0.027731093702044546), (13, 0.0653598431600422), (16, 0.08737125054200234), (19, 0.125), (20, 0.08737125054200234), (21, 0.125), (22, 0.125), (23, 0.125)]\n",
      "Relation of user perceived response time to error measurement [(9, 0.02464986106848404), (11, 0.07766333381511319), (14, 0.07766333381511319), (15, 0.05809763836448195), (24, 0.1111111111111111), (25, 0.1111111111111111), (26, 0.1111111111111111), (27, 0.1111111111111111), (28, 0.1111111111111111)]\n",
      "The generation of random binary unordered trees [(9, 0.03169267851662234), (17, 0.0746969636114768), (29, 0.14285714285714285), (30, 0.14285714285714285), (31, 0.14285714285714285), (32, 0.0746969636114768), (33, 0.14285714285714285)]\n",
      "The intersection graph of paths in trees [(9, 0.03169267851662234), (17, 0.0746969636114768), (32, 0.0746969636114768), (34, 0.14285714285714285), (35, 0.14285714285714285), (36, 0.14285714285714285), (37, 0.14285714285714285)]\n",
      "Graph minors IV Widths of trees and well quasi ordering [(9, 0.02218487496163564), (20, 0.06989700043360188), (32, 0.05228787452803377), (38, 0.06989700043360188), (39, 0.1), (40, 0.1), (41, 0.06989700043360188), (42, 0.1), (43, 0.1), (44, 0.1)]\n",
      "Graph minors A survey [(8, 0.1747425010840047), (12, 0.1747425010840047), (38, 0.1747425010840047), (41, 0.1747425010840047)]\n"
     ]
    }
   ],
   "source": [
    "for i, tfidfscore in enumerate(tfidf):\n",
    "    print(fn_docs[i], tfidfscore)"
   ]
  },
  {
   "cell_type": "code",
   "execution_count": null,
   "metadata": {},
   "outputs": [],
   "source": []
  },
  {
   "cell_type": "code",
   "execution_count": null,
   "metadata": {},
   "outputs": [],
   "source": []
  }
 ],
 "metadata": {
  "kernelspec": {
   "display_name": "Python 3",
   "language": "python",
   "name": "python3"
  },
  "language_info": {
   "codemirror_mode": {
    "name": "ipython",
    "version": 3
   },
   "file_extension": ".py",
   "mimetype": "text/x-python",
   "name": "python",
   "nbconvert_exporter": "python",
   "pygments_lexer": "ipython3",
   "version": "3.7.2"
  }
 },
 "nbformat": 4,
 "nbformat_minor": 2
}
