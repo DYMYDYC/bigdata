{
 "cells": [
  {
   "cell_type": "markdown",
   "metadata": {},
   "source": [
    "# Build a simple text classifier with tf.estimator and tensorflow_hub"
   ]
  },
  {
   "cell_type": "code",
   "execution_count": 10,
   "metadata": {},
   "outputs": [],
   "source": [
    "import tensorflow as tf\n",
    "import tensorflow_hub as hub\n",
    "import numpy as np\n",
    "import pandas as pd\n",
    "\n",
    "## Suppress useless warnings\n",
    "import warnings\n",
    "warnings.filterwarnings('ignore')"
   ]
  },
  {
   "cell_type": "markdown",
   "metadata": {},
   "source": [
    "### Load Data: This dataset contains movie reviews along with their associated binary sentiment polarity labels."
   ]
  },
  {
   "cell_type": "code",
   "execution_count": 11,
   "metadata": {},
   "outputs": [
    {
     "name": "stdout",
     "output_type": "stream",
     "text": [
      "Number of Samples in training:  25000\n",
      "Number of Samples in testing:  25000\n",
      "Training data looks like:\n",
      "\n"
     ]
    },
    {
     "data": {
      "text/html": [
       "<div>\n",
       "<style scoped>\n",
       "    .dataframe tbody tr th:only-of-type {\n",
       "        vertical-align: middle;\n",
       "    }\n",
       "\n",
       "    .dataframe tbody tr th {\n",
       "        vertical-align: top;\n",
       "    }\n",
       "\n",
       "    .dataframe thead th {\n",
       "        text-align: right;\n",
       "    }\n",
       "</style>\n",
       "<table border=\"1\" class=\"dataframe\">\n",
       "  <thead>\n",
       "    <tr style=\"text-align: right;\">\n",
       "      <th></th>\n",
       "      <th>sentence</th>\n",
       "      <th>polarity</th>\n",
       "    </tr>\n",
       "  </thead>\n",
       "  <tbody>\n",
       "    <tr>\n",
       "      <th>0</th>\n",
       "      <td>I found it very very difficulty to watch this ...</td>\n",
       "      <td>0</td>\n",
       "    </tr>\n",
       "    <tr>\n",
       "      <th>1</th>\n",
       "      <td>The mood of this movie is pretty good and it c...</td>\n",
       "      <td>0</td>\n",
       "    </tr>\n",
       "    <tr>\n",
       "      <th>2</th>\n",
       "      <td>American film makers decided to make a film th...</td>\n",
       "      <td>0</td>\n",
       "    </tr>\n",
       "    <tr>\n",
       "      <th>3</th>\n",
       "      <td>The music and Laurence Olivier's sombre delive...</td>\n",
       "      <td>1</td>\n",
       "    </tr>\n",
       "    <tr>\n",
       "      <th>4</th>\n",
       "      <td>I absolutely love this game to death. Ever sin...</td>\n",
       "      <td>1</td>\n",
       "    </tr>\n",
       "  </tbody>\n",
       "</table>\n",
       "</div>"
      ],
      "text/plain": [
       "                                            sentence  polarity\n",
       "0  I found it very very difficulty to watch this ...         0\n",
       "1  The mood of this movie is pretty good and it c...         0\n",
       "2  American film makers decided to make a film th...         0\n",
       "3  The music and Laurence Olivier's sombre delive...         1\n",
       "4  I absolutely love this game to death. Ever sin...         1"
      ]
     },
     "execution_count": 11,
     "metadata": {},
     "output_type": "execute_result"
    }
   ],
   "source": [
    "train_df = pd.read_csv('data/sentiment_train.csv') \n",
    "test_df = pd.read_csv('data/sentiment_test.csv')\n",
    "\n",
    "print('Number of Samples in training: ', len(train_df))\n",
    "print('Number of Samples in testing: ', len(test_df))\n",
    "print('Training data looks like:\\n')\n",
    "\n",
    "# Sample\n",
    "train_df.head(5)"
   ]
  },
  {
   "cell_type": "markdown",
   "metadata": {},
   "source": [
    "#### Look into few samples [0 = Negative, 1 = Positive]"
   ]
  },
  {
   "cell_type": "code",
   "execution_count": 12,
   "metadata": {},
   "outputs": [
    {
     "name": "stdout",
     "output_type": "stream",
     "text": [
      "Review:\n",
      "\n",
      " I absolutely love this game to death. Ever since I was 9 years old (I am now 15). It has great graphics, characters, magic, weapons, additions, and don't forget the ultimately awesome dragoon forms! I am still waiting for a remake, prequel, or a sequel to this spectacular video game. <br /><br />You play as Dart, a young swordsman who has the potential to be quite the hero. On this adventure you encounter wondrous creatures and boss fights. You also encounter some friends on the way who have their own special element. Such as Fire, Darkness, Water/Ice, Thunder/Lightning, Earth, Light, and Wind. There are also items known as dragoon spirits, which allow you to transform into magical creatures of legend. Dragons, wizards, creatures called winglies and evil creatures you'll have to face on this adventure of action-packed thrills and excitement. One of my all time favorite games, The Legend of Dragoon!\n",
      "\n",
      "\n",
      "Polarity: 1\n"
     ]
    }
   ],
   "source": [
    "print(\"Review:\\n\\n\",train_df.iloc[4].sentence)\n",
    "print(\"\\n\\nPolarity:\",train_df.iloc[4].polarity)"
   ]
  },
  {
   "cell_type": "markdown",
   "metadata": {},
   "source": [
    "# Lets Model Using tensorflow's Estimator framework:\n",
    "\n",
    "### 1. Estimator framework provides input functions that wrap Pandas dataframes.\n",
    "\n"
   ]
  },
  {
   "cell_type": "code",
   "execution_count": 13,
   "metadata": {},
   "outputs": [],
   "source": [
    "# Training input on the whole training set with no limit on training epochs.\n",
    "train_input_fn = tf.estimator.inputs.pandas_input_fn(x=train_df, \n",
    "                                                     y=train_df[\"polarity\"], \n",
    "                                                     num_epochs=None,\n",
    "                                                     shuffle=True)\n",
    "\n",
    "# Prediction on the whole training set.\n",
    "predict_train_input_fn = tf.estimator.inputs.pandas_input_fn(x=train_df,\n",
    "                                                             y=train_df[\"polarity\"],\n",
    "                                                             shuffle=False)\n",
    "\n",
    "# Prediction on the test set.\n",
    "predict_test_input_fn = tf.estimator.inputs.pandas_input_fn(x=test_df, \n",
    "                                                            y=test_df[\"polarity\"], \n",
    "                                                            shuffle=False)"
   ]
  },
  {
   "cell_type": "markdown",
   "metadata": {},
   "source": [
    "### 2. Using Feature Columns:\n",
    "\n",
    "TF-Hub provides a feature column that applies a module on the given text feature and passes further the outputs of the module. In this tutorial we will be using the nnlm-en-dim128 module. For the purpose of this tutorial, the most important facts are:\n",
    "\n",
    "1. The module takes a batch of sentences in a 1-D tensor of strings as input.\n",
    "2. The module is responsible for preprocessing of sentences (e.g. removal of punctuation and splitting on spaces).\n",
    "3. The module works with any input (e.g. nnlm-en-dim128 hashes words not present in vocabulary into ~20.000 buckets)."
   ]
  },
  {
   "cell_type": "code",
   "execution_count": 14,
   "metadata": {},
   "outputs": [],
   "source": [
    "embedded_text_feature_column = hub.text_embedding_column(key=\"sentence\", # embed the text\n",
    "                                                         module_spec=\"https://tfhub.dev/google/nnlm-en-dim128/1\",# embedding type\n",
    "                                                         trainable=True)"
   ]
  },
  {
   "cell_type": "markdown",
   "metadata": {},
   "source": [
    "### 3. Estimator\n",
    "\n",
    "For classification we can use a DNN Classifier, and specify the hidden layers and other properties of the neural network"
   ]
  },
  {
   "cell_type": "code",
   "execution_count": 15,
   "metadata": {},
   "outputs": [],
   "source": [
    "estimator = tf.estimator.DNNClassifier(hidden_units=[512, 128],\n",
    "                                       feature_columns=[embedded_text_feature_column],\n",
    "                                       n_classes=2,\n",
    "                                       activation_fn = tf.nn.relu,\n",
    "                                       optimizer=tf.train.AdagradOptimizer(learning_rate=0.003))"
   ]
  },
  {
   "cell_type": "markdown",
   "metadata": {},
   "source": [
    "### 4. Train"
   ]
  },
  {
   "cell_type": "code",
   "execution_count": 17,
   "metadata": {},
   "outputs": [
    {
     "data": {
      "text/plain": [
       "<tensorflow.python.estimator.canned.dnn.DNNClassifier at 0x7f31d47e3630>"
      ]
     },
     "execution_count": 17,
     "metadata": {},
     "output_type": "execute_result"
    }
   ],
   "source": [
    "\n",
    "\n",
    "# Training for 1,000 steps means 128,000 training examples with the default\n",
    "# batch size. This is roughly equivalent to 5 epochs since the training dataset\n",
    "# contains 25,000 examples.\n",
    "\n",
    "estimator.train(input_fn=train_input_fn, # training using train input function declared above\n",
    "                steps=1000)"
   ]
  },
  {
   "cell_type": "markdown",
   "metadata": {},
   "source": [
    "### 5. Evaluation"
   ]
  },
  {
   "cell_type": "code",
   "execution_count": 18,
   "metadata": {},
   "outputs": [
    {
     "name": "stdout",
     "output_type": "stream",
     "text": [
      "Training set accuracy: 0.9914000034332275\n",
      "Test set accuracy: 0.8652399778366089\n"
     ]
    }
   ],
   "source": [
    "## Reduce logging output.\n",
    "tf.logging.set_verbosity(tf.logging.ERROR)\n",
    "\n",
    "## EVAL\n",
    "train_eval_result = estimator.evaluate(input_fn=predict_train_input_fn)\n",
    "test_eval_result = estimator.evaluate(input_fn=predict_test_input_fn)\n",
    "\n",
    "print (\"Training set accuracy: {accuracy}\".format(**train_eval_result))\n",
    "print (\"Test set accuracy: {accuracy}\".format(**test_eval_result))"
   ]
  },
  {
   "cell_type": "code",
   "execution_count": null,
   "metadata": {},
   "outputs": [],
   "source": []
  }
 ],
 "metadata": {
  "kernelspec": {
   "display_name": "Python 3",
   "language": "python",
   "name": "python3"
  },
  "language_info": {
   "codemirror_mode": {
    "name": "ipython",
    "version": 3
   },
   "file_extension": ".py",
   "mimetype": "text/x-python",
   "name": "python",
   "nbconvert_exporter": "python",
   "pygments_lexer": "ipython3",
   "version": "3.5.2"
  }
 },
 "nbformat": 4,
 "nbformat_minor": 2
}
