{
 "cells": [
  {
   "cell_type": "markdown",
   "metadata": {},
   "source": [
    "## Different source files"
   ]
  },
  {
   "cell_type": "code",
   "execution_count": 16,
   "metadata": {},
   "outputs": [],
   "source": [
    "import nltk\n",
    "import urllib.parse\n",
    "import urllib.request\n",
    "#from urllib.request import Request, urlopen\n",
    "from urllib.error import URLError\n",
    "from bs4 import BeautifulSoup"
   ]
  },
  {
   "cell_type": "code",
   "execution_count": 17,
   "metadata": {},
   "outputs": [],
   "source": [
    "# Table mapping response codes to messages; entries have the\n",
    "# form {code: (shortmessage, longmessage)}.\n",
    "responses = {\n",
    "    100: ('Continue', 'Request received, please continue'),\n",
    "    101: ('Switching Protocols',\n",
    "          'Switching to new protocol; obey Upgrade header'),\n",
    "\n",
    "    200: ('OK', 'Request fulfilled, document follows'),\n",
    "    201: ('Created', 'Document created, URL follows'),\n",
    "    202: ('Accepted',\n",
    "          'Request accepted, processing continues off-line'),\n",
    "    203: ('Non-Authoritative Information', 'Request fulfilled from cache'),\n",
    "    204: ('No Content', 'Request fulfilled, nothing follows'),\n",
    "    205: ('Reset Content', 'Clear input form for further input.'),\n",
    "    206: ('Partial Content', 'Partial content follows.'),\n",
    "\n",
    "    300: ('Multiple Choices',\n",
    "          'Object has several resources -- see URI list'),\n",
    "    301: ('Moved Permanently', 'Object moved permanently -- see URI list'),\n",
    "    302: ('Found', 'Object moved temporarily -- see URI list'),\n",
    "    303: ('See Other', 'Object moved -- see Method and URL list'),\n",
    "    304: ('Not Modified',\n",
    "          'Document has not changed since given time'),\n",
    "    305: ('Use Proxy',\n",
    "          'You must use proxy specified in Location to access this '\n",
    "          'resource.'),\n",
    "    307: ('Temporary Redirect',\n",
    "          'Object moved temporarily -- see URI list'),\n",
    "\n",
    "    400: ('Bad Request',\n",
    "          'Bad request syntax or unsupported method'),\n",
    "    401: ('Unauthorized',\n",
    "          'No permission -- see authorization schemes'),\n",
    "    402: ('Payment Required',\n",
    "          'No payment -- see charging schemes'),\n",
    "    403: ('Forbidden',\n",
    "          'Request forbidden -- authorization will not help'),\n",
    "    404: ('Not Found', 'Nothing matches the given URI'),\n",
    "    405: ('Method Not Allowed',\n",
    "          'Specified method is invalid for this server.'),\n",
    "    406: ('Not Acceptable', 'URI not available in preferred format.'),\n",
    "    407: ('Proxy Authentication Required', 'You must authenticate with '\n",
    "          'this proxy before proceeding.'),\n",
    "    408: ('Request Timeout', 'Request timed out; try again later.'),\n",
    "    409: ('Conflict', 'Request conflict.'),\n",
    "    410: ('Gone',\n",
    "          'URI no longer exists and has been permanently removed.'),\n",
    "    411: ('Length Required', 'Client must specify Content-Length.'),\n",
    "    412: ('Precondition Failed', 'Precondition in headers is false.'),\n",
    "    413: ('Request Entity Too Large', 'Entity is too large.'),\n",
    "    414: ('Request-URI Too Long', 'URI is too long.'),\n",
    "    415: ('Unsupported Media Type', 'Entity body in unsupported format.'),\n",
    "    416: ('Requested Range Not Satisfiable',\n",
    "          'Cannot satisfy request range.'),\n",
    "    417: ('Expectation Failed',\n",
    "          'Expect condition could not be satisfied.'),\n",
    "\n",
    "    500: ('Internal Server Error', 'Server got itself in trouble'),\n",
    "    501: ('Not Implemented',\n",
    "          'Server does not support this operation'),\n",
    "    502: ('Bad Gateway', 'Invalid responses from another server/proxy.'),\n",
    "    503: ('Service Unavailable',\n",
    "          'The server cannot process the request due to a high load'),\n",
    "    504: ('Gateway Timeout',\n",
    "          'The gateway server did not receive a timely response'),\n",
    "    505: ('HTTP Version Not Supported', 'Cannot fulfill request.'),\n",
    "    }"
   ]
  },
  {
   "cell_type": "markdown",
   "metadata": {},
   "source": [
    "Some websites [1] dislike being browsed by programs, or send different versions to different browsers [2]. By default urllib identifies itself as Python-urllib/x.y (where x and y are the major and minor version numbers of the Python release, e.g. Python-urllib/2.5), which may confuse the site, or just plain not work. The way a browser identifies itself is through the User-Agent header [3]. When you create a Request object you can pass a dictionary of headers in. The following example makes the same request as above, but identifies itself as a version of Internet Explorer [4]."
   ]
  },
  {
   "cell_type": "code",
   "execution_count": 18,
   "metadata": {},
   "outputs": [],
   "source": [
    "url = \"https://en.wikipedia.org/wiki/World_War_II\"\n",
    "user_agent = 'Mozilla/5.0 (Windows NT 6.1; Win64; x64)'\n",
    "values = {'name': 'Michael Foord',\n",
    "          'location': 'Northampton',\n",
    "          'language': 'Python' }\n",
    "headers = {'User-Agent': user_agent}\n",
    "data = urllib.parse.urlencode(values)\n",
    "data = data.encode('ascii')"
   ]
  },
  {
   "cell_type": "code",
   "execution_count": 19,
   "metadata": {},
   "outputs": [
    {
     "name": "stdout",
     "output_type": "stream",
     "text": [
      "everything is fine\n"
     ]
    }
   ],
   "source": [
    "req = urllib.request.Request(url, data, headers)\n",
    "\n",
    "try:\n",
    "    #urllib.request.urlopen(req)\n",
    "    with urllib.request.urlopen(req) as response:\n",
    "        html = response.read()\n",
    "except URLError as e:\n",
    "    print('The server couldn\\'t fulfill the request.')\n",
    "    print('Error code: ', responses[e.code])\n",
    "except URLError as e:\n",
    "    print('We failed to reach a server.')\n",
    "    print('Reason: ', e.reason)\n",
    "else:\n",
    "    print(\"everything is fine\")"
   ]
  },
  {
   "cell_type": "code",
   "execution_count": 21,
   "metadata": {},
   "outputs": [],
   "source": [
    "#html"
   ]
  },
  {
   "cell_type": "markdown",
   "metadata": {},
   "source": [
    "## We will use a Python library called BeautifulSoup in order to strip away the HTML code."
   ]
  },
  {
   "cell_type": "code",
   "execution_count": 23,
   "metadata": {},
   "outputs": [],
   "source": [
    "web_str = BeautifulSoup(html, \"lxml\").get_text()"
   ]
  },
  {
   "cell_type": "code",
   "execution_count": 35,
   "metadata": {},
   "outputs": [],
   "source": [
    "#web_str "
   ]
  },
  {
   "cell_type": "code",
   "execution_count": 30,
   "metadata": {},
   "outputs": [],
   "source": [
    "web_tokens = nltk.word_tokenize(web_str)"
   ]
  },
  {
   "cell_type": "code",
   "execution_count": 31,
   "metadata": {},
   "outputs": [
    {
     "data": {
      "text/plain": [
       "['World',\n",
       " 'War',\n",
       " 'II',\n",
       " '-',\n",
       " 'Wikipedia',\n",
       " 'document.documentElement.className',\n",
       " '=',\n",
       " 'document.documentElement.className.replace',\n",
       " '(',\n",
       " '/',\n",
       " '(',\n",
       " '^|\\\\s',\n",
       " ')',\n",
       " 'client-nojs',\n",
       " '(',\n",
       " '\\\\s|',\n",
       " '$',\n",
       " ')',\n",
       " '/',\n",
       " ',',\n",
       " '``',\n",
       " '$',\n",
       " '1client-js',\n",
       " '$',\n",
       " '2']"
      ]
     },
     "execution_count": 31,
     "metadata": {},
     "output_type": "execute_result"
    }
   ],
   "source": [
    "web_tokens[0:25]"
   ]
  }
 ],
 "metadata": {
  "kernelspec": {
   "display_name": "Python 3",
   "language": "python",
   "name": "python3"
  },
  "language_info": {
   "codemirror_mode": {
    "name": "ipython",
    "version": 3
   },
   "file_extension": ".py",
   "mimetype": "text/x-python",
   "name": "python",
   "nbconvert_exporter": "python",
   "pygments_lexer": "ipython3",
   "version": "3.5.2"
  }
 },
 "nbformat": 4,
 "nbformat_minor": 2
}
